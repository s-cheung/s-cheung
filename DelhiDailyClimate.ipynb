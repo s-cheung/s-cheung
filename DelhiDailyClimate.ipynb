{
  "nbformat": 4,
  "nbformat_minor": 0,
  "metadata": {
    "colab": {
      "name": "DelhiDailyClimate.ipynb",
      "provenance": [],
      "authorship_tag": "ABX9TyNCM74felZE2c34JPouAtsL",
      "include_colab_link": true
    },
    "kernelspec": {
      "name": "python3",
      "display_name": "Python 3"
    },
    "language_info": {
      "name": "python"
    }
  },
  "cells": [
    {
      "cell_type": "markdown",
      "metadata": {
        "id": "view-in-github",
        "colab_type": "text"
      },
      "source": [
        "<a href=\"https://colab.research.google.com/github/s-cheung/s-cheung/blob/main/DelhiDailyClimate.ipynb\" target=\"_parent\"><img src=\"https://colab.research.google.com/assets/colab-badge.svg\" alt=\"Open In Colab\"/></a>"
      ]
    },
    {
      "cell_type": "code",
      "source": [
        "#IMPORT LIBRARIES AND FUNCTIONS NEEDED\n",
        "from google.colab import drive\n",
        "import zipfile\n",
        "\n",
        "import matplotlib as mpl\n",
        "from matplotlib import pyplot as plt\n",
        "import numpy as np\n",
        "import os\n",
        "import sys\n",
        "import cv2\n",
        "import time\n",
        "from itertools import repeat\n",
        "\n",
        "#sklearn\n",
        "from sklearn.model_selection import train_test_split\n",
        "from skimage.transform import resize\n",
        "\n",
        "#pandas\n",
        "import pandas as pd\n",
        "\n",
        "#tensorflow\n",
        "import tensorflow as tf\n",
        "from tensorflow.python.keras.utils import np_utils\n",
        "from tensorflow.keras.models import Sequential, Model\n",
        "from tensorflow.keras.layers import Dense, Dropout, Flatten, Activation, BatchNormalization\n",
        "from tensorflow.python.keras.layers.convolutional import Conv2D, MaxPooling2D \n",
        "from tensorflow.keras.preprocessing.image import ImageDataGenerator\n",
        "from tensorflow.keras.optimizers import Adam,SGD,Adagrad,Adadelta,RMSprop\n",
        "from tensorflow.keras.applications import VGG16, ResNet50\n",
        "with tf.device('/device:GPU:0'):\n",
        "  from tensorflow.python.keras.callbacks import ReduceLROnPlateau\n",
        "  from tensorflow.python.keras.callbacks import ModelCheckpoint"
      ],
      "metadata": {
        "id": "kIMUZbwwUY8P"
      },
      "execution_count": 16,
      "outputs": []
    },
    {
      "cell_type": "markdown",
      "source": [
        "#Preprocessing"
      ],
      "metadata": {
        "id": "lxsHCa63WhHb"
      }
    },
    {
      "cell_type": "markdown",
      "source": [
        "##Loading Data"
      ],
      "metadata": {
        "id": "2Ovqj-kNZAhW"
      }
    },
    {
      "cell_type": "code",
      "execution_count": 8,
      "metadata": {
        "id": "_8uxBpEcULO3"
      },
      "outputs": [],
      "source": [
        "%%capture\n",
        "#mount gdrive\n",
        "drive.mount('/content/gdrive')\n",
        "\n",
        "#loading data & opening the zip file in READ mode\n",
        "with zipfile.ZipFile('gdrive/My Drive/Personal/DataProjects/ML/DelhiDailyClimate/archive.zip', 'r') as zip:\n",
        "    # printing & extracting contents\n",
        "    with zip.open('DailyDelhiClimateTest.csv') as test:\n",
        "      Y = pd.read_csv(test)\n",
        "    with zip.open('DailyDelhiClimateTrain.csv') as train:\n",
        "      X = pd.read_csv(train)"
      ]
    },
    {
      "cell_type": "markdown",
      "source": [
        "##Verifying Data"
      ],
      "metadata": {
        "id": "hnLVWxtRZEVk"
      }
    },
    {
      "cell_type": "code",
      "source": [
        "print(X.head())\n",
        "print(Y.head())\n",
        "\n",
        "fig1, (axs1, axs2, axs3, axs4) = plt.subplots(1,4, figsize = (20, 5))\n",
        "fig1.suptitle('Training Data')\n",
        "axs1.hist(X.meantemp, range = (0,40))\n",
        "axs1.set_title('Mean Temperature (Celcius)')\n",
        "axs2.hist(X.humidity, range = (0,100))\n",
        "axs2.set_title('Humidity')\n",
        "axs3.hist(X.wind_speed, range = (0, 25))\n",
        "axs3.set_title('Wind Speed')\n",
        "axs4.hist(X.meanpressure, range = (0, 1500))\n",
        "axs4.set_title('Mean Pressure')\n",
        "\n",
        "\n",
        "fig2, (axs1, axs2, axs3, axs4) = plt.subplots(1,4, figsize = (20, 5))\n",
        "fig2.suptitle('Testing Data')\n",
        "axs1.hist(Y.meantemp, range = (0,40))\n",
        "axs1.set_title('Mean Temperature (Celcius)')\n",
        "axs2.hist(Y.humidity, range = (0,100))\n",
        "axs2.set_title('Humidity')\n",
        "axs3.hist(Y.wind_speed, range = (0, 25))\n",
        "axs3.set_title('Wind Speed')\n",
        "axs4.hist(Y.meanpressure, range = (0, 1500))\n",
        "axs4.set_title('Mean Pressure')\n"
      ],
      "metadata": {
        "colab": {
          "base_uri": "https://localhost:8080/",
          "height": 932
        },
        "id": "v0ATfxr9ZmSa",
        "outputId": "36afdde6-3d39-4f74-99fa-21f733e11b46"
      },
      "execution_count": 33,
      "outputs": [
        {
          "output_type": "stream",
          "name": "stdout",
          "text": [
            "         date   meantemp   humidity  wind_speed  meanpressure\n",
            "0  2013-01-01  10.000000  84.500000    0.000000   1015.666667\n",
            "1  2013-01-02   7.400000  92.000000    2.980000   1017.800000\n",
            "2  2013-01-03   7.166667  87.000000    4.633333   1018.666667\n",
            "3  2013-01-04   8.666667  71.333333    1.233333   1017.166667\n",
            "4  2013-01-05   6.000000  86.833333    3.700000   1016.500000\n",
            "         date   meantemp   humidity  wind_speed  meanpressure\n",
            "0  2017-01-01  15.913043  85.869565    2.743478     59.000000\n",
            "1  2017-01-02  18.500000  77.222222    2.894444   1018.277778\n",
            "2  2017-01-03  17.111111  81.888889    4.016667   1018.333333\n",
            "3  2017-01-04  18.700000  70.050000    4.545000   1015.700000\n",
            "4  2017-01-05  18.388889  74.944444    3.300000   1014.333333\n"
          ]
        },
        {
          "output_type": "execute_result",
          "data": {
            "text/plain": [
              "Text(0.5, 1.0, 'Mean Pressure')"
            ]
          },
          "metadata": {},
          "execution_count": 33
        },
        {
          "output_type": "display_data",
          "data": {
            "text/plain": [
              "<Figure size 1440x360 with 4 Axes>"
            ],
            "image/png": "[encoded data removed]"
          },
          "metadata": {
            "needs_background": "light"
          }
        },
        {
          "output_type": "display_data",
          "data": {
            "text/plain": [
              "<Figure size 1440x360 with 4 Axes>"
            ],
            "image/png": "[encoded data removed]"
          },
          "metadata": {
            "needs_background": "light"
          }
        }
      ]
    },
    {
      "cell_type": "code",
      "source": [
        ""
      ],
      "metadata": {
        "colab": {
          "base_uri": "https://localhost:8080/",
          "height": 206
        },
        "id": "lqxLuJbnZmTL",
        "outputId": "2bf4a7c1-d44c-491e-86ca-58a7533c4912"
      },
      "execution_count": 10,
      "outputs": [
        {
          "output_type": "execute_result",
          "data": {
            "text/plain": [
              "         date   meantemp   humidity  wind_speed  meanpressure\n",
              "0  2017-01-01  15.913043  85.869565    2.743478     59.000000\n",
              "1  2017-01-02  18.500000  77.222222    2.894444   1018.277778\n",
              "2  2017-01-03  17.111111  81.888889    4.016667   1018.333333\n",
              "3  2017-01-04  18.700000  70.050000    4.545000   1015.700000\n",
              "4  2017-01-05  18.388889  74.944444    3.300000   1014.333333"
            ],
            "text/html": [
              "\n",
              "  <div id=\"df-16d7d914-f593-486a-ad75-830cc154a260\">\n",
              "    <div class=\"colab-df-container\">\n",
              "      <div>\n",
              "<style scoped>\n",
              "    .dataframe tbody tr th:only-of-type {\n",
              "        vertical-align: middle;\n",
              "    }\n",
              "\n",
              "    .dataframe tbody tr th {\n",
              "        vertical-align: top;\n",
              "    }\n",
              "\n",
              "    .dataframe thead th {\n",
              "        text-align: right;\n",
              "    }\n",
              "</style>\n",
              "<table border=\"1\" class=\"dataframe\">\n",
              "  <thead>\n",
              "    <tr style=\"text-align: right;\">\n",
              "      <th></th>\n",
              "      <th>date</th>\n",
              "      <th>meantemp</th>\n",
              "      <th>humidity</th>\n",
              "      <th>wind_speed</th>\n",
              "      <th>meanpressure</th>\n",
              "    </tr>\n",
              "  </thead>\n",
              "  <tbody>\n",
              "    <tr>\n",
              "      <th>0</th>\n",
              "      <td>2017-01-01</td>\n",
              "      <td>15.913043</td>\n",
              "      <td>85.869565</td>\n",
              "      <td>2.743478</td>\n",
              "      <td>59.000000</td>\n",
              "    </tr>\n",
              "    <tr>\n",
              "      <th>1</th>\n",
              "      <td>2017-01-02</td>\n",
              "      <td>18.500000</td>\n",
              "      <td>77.222222</td>\n",
              "      <td>2.894444</td>\n",
              "      <td>1018.277778</td>\n",
              "    </tr>\n",
              "    <tr>\n",
              "      <th>2</th>\n",
              "      <td>2017-01-03</td>\n",
              "      <td>17.111111</td>\n",
              "      <td>81.888889</td>\n",
              "      <td>4.016667</td>\n",
              "      <td>1018.333333</td>\n",
              "    </tr>\n",
              "    <tr>\n",
              "      <th>3</th>\n",
              "      <td>2017-01-04</td>\n",
              "      <td>18.700000</td>\n",
              "      <td>70.050000</td>\n",
              "      <td>4.545000</td>\n",
              "      <td>1015.700000</td>\n",
              "    </tr>\n",
              "    <tr>\n",
              "      <th>4</th>\n",
              "      <td>2017-01-05</td>\n",
              "      <td>18.388889</td>\n",
              "      <td>74.944444</td>\n",
              "      <td>3.300000</td>\n",
              "      <td>1014.333333</td>\n",
              "    </tr>\n",
              "  </tbody>\n",
              "</table>\n",
              "</div>\n",
              "      <button class=\"colab-df-convert\" onclick=\"convertToInteractive('df-16d7d914-f593-486a-ad75-830cc154a260')\"\n",
              "              title=\"Convert this dataframe to an interactive table.\"\n",
              "              style=\"display:none;\">\n",
              "        \n",
              "  <svg xmlns=\"http://www.w3.org/2000/svg\" height=\"24px\"viewBox=\"0 0 24 24\"\n",
              "       width=\"24px\">\n",
              "    <path d=\"M0 0h24v24H0V0z\" fill=\"none\"/>\n",
              "    <path d=\"M18.56 5.44l.94 2.06.94-2.06 2.06-.94-2.06-.94-.94-2.06-.94 2.06-2.06.94zm-11 1L8.5 8.5l.94-2.06 2.06-.94-2.06-.94L8.5 2.5l-.94 2.06-2.06.94zm10 10l.94 2.06.94-2.06 2.06-.94-2.06-.94-.94-2.06-.94 2.06-2.06.94z\"/><path d=\"M17.41 7.96l-1.37-1.37c-.4-.4-.92-.59-1.43-.59-.52 0-1.04.2-1.43.59L10.3 9.45l-7.72 7.72c-.78.78-.78 2.05 0 2.83L4 21.41c.39.39.9.59 1.41.59.51 0 1.02-.2 1.41-.59l7.78-7.78 2.81-2.81c.8-.78.8-2.07 0-2.86zM5.41 20L4 18.59l7.72-7.72 1.47 1.35L5.41 20z\"/>\n",
              "  </svg>\n",
              "      </button>\n",
              "      \n",
              "  <style>\n",
              "    .colab-df-container {\n",
              "      display:flex;\n",
              "      flex-wrap:wrap;\n",
              "      gap: 12px;\n",
              "    }\n",
              "\n",
              "    .colab-df-convert {\n",
              "      background-color: #E8F0FE;\n",
              "      border: none;\n",
              "      border-radius: 50%;\n",
              "      cursor: pointer;\n",
              "      display: none;\n",
              "      fill: #1967D2;\n",
              "      height: 32px;\n",
              "      padding: 0 0 0 0;\n",
              "      width: 32px;\n",
              "    }\n",
              "\n",
              "    .colab-df-convert:hover {\n",
              "      background-color: #E2EBFA;\n",
              "      box-shadow: 0px 1px 2px rgba(60, 64, 67, 0.3), 0px 1px 3px 1px rgba(60, 64, 67, 0.15);\n",
              "      fill: #174EA6;\n",
              "    }\n",
              "\n",
              "    [theme=dark] .colab-df-convert {\n",
              "      background-color: #3B4455;\n",
              "      fill: #D2E3FC;\n",
              "    }\n",
              "\n",
              "    [theme=dark] .colab-df-convert:hover {\n",
              "      background-color: #434B5C;\n",
              "      box-shadow: 0px 1px 3px 1px rgba(0, 0, 0, 0.15);\n",
              "      filter: drop-shadow(0px 1px 2px rgba(0, 0, 0, 0.3));\n",
              "      fill: #FFFFFF;\n",
              "    }\n",
              "  </style>\n",
              "\n",
              "      <script>\n",
              "        const buttonEl =\n",
              "          document.querySelector('#df-16d7d914-f593-486a-ad75-830cc154a260 button.colab-df-convert');\n",
              "        buttonEl.style.display =\n",
              "          google.colab.kernel.accessAllowed ? 'block' : 'none';\n",
              "\n",
              "        async function convertToInteractive(key) {\n",
              "          const element = document.querySelector('#df-16d7d914-f593-486a-ad75-830cc154a260');\n",
              "          const dataTable =\n",
              "            await google.colab.kernel.invokeFunction('convertToInteractive',\n",
              "                                                     [key], {});\n",
              "          if (!dataTable) return;\n",
              "\n",
              "          const docLinkHtml = 'Like what you see? Visit the ' +\n",
              "            '<a target=\"_blank\" href=https://colab.research.google.com/notebooks/data_table.ipynb>data table notebook</a>'\n",
              "            + ' to learn more about interactive tables.';\n",
              "          element.innerHTML = '';\n",
              "          dataTable['output_type'] = 'display_data';\n",
              "          await google.colab.output.renderOutput(dataTable, element);\n",
              "          const docLink = document.createElement('div');\n",
              "          docLink.innerHTML = docLinkHtml;\n",
              "          element.appendChild(docLink);\n",
              "        }\n",
              "      </script>\n",
              "    </div>\n",
              "  </div>\n",
              "  "
            ]
          },
          "metadata": {},
          "execution_count": 10
        }
      ]
    },
    {
      "cell_type": "markdown",
      "source": [
        "##(Any manipulation needed/adjustment)"
      ],
      "metadata": {
        "id": "JShcE37FZOJt"
      }
    },
    {
      "cell_type": "markdown",
      "source": [
        "##Train Test Split"
      ],
      "metadata": {
        "id": "QEF16UAiZHz9"
      }
    },
    {
      "cell_type": "markdown",
      "source": [
        "#Training"
      ],
      "metadata": {
        "id": "8BbNcfvFY5s_"
      }
    },
    {
      "cell_type": "markdown",
      "source": [
        "##Model 1"
      ],
      "metadata": {
        "id": "BLxZ1w3kZVbe"
      }
    },
    {
      "cell_type": "markdown",
      "source": [
        "##Model 2"
      ],
      "metadata": {
        "id": "uWnT-Xl2ZXFd"
      }
    },
    {
      "cell_type": "markdown",
      "source": [
        "##Model 3"
      ],
      "metadata": {
        "id": "uzC_90_mZZGJ"
      }
    },
    {
      "cell_type": "markdown",
      "source": [
        "#Testing/Outcome"
      ],
      "metadata": {
        "id": "j2dfmdNLY8gl"
      }
    },
    {
      "cell_type": "code",
      "source": [
        "#Model 1"
      ],
      "metadata": {
        "id": "CMZkgk7sZd4U"
      },
      "execution_count": null,
      "outputs": []
    },
    {
      "cell_type": "code",
      "source": [
        "#Model 2"
      ],
      "metadata": {
        "id": "4tgzAl5JZePW"
      },
      "execution_count": null,
      "outputs": []
    },
    {
      "cell_type": "code",
      "source": [
        "#Model 3"
      ],
      "metadata": {
        "id": "nIfWXaJDZg5q"
      },
      "execution_count": null,
      "outputs": []
    }
  ]
}